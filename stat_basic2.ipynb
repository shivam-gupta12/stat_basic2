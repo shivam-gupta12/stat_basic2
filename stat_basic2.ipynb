{
 "cells": [
  {
   "cell_type": "markdown",
   "id": "82e3a953-2977-4d0a-ba06-a6807664c32e",
   "metadata": {},
   "source": [
    "# question 1\n",
    "the three measures of central tendency are mean ,  median and mode."
   ]
  },
  {
   "cell_type": "markdown",
   "id": "b8bfc9d6-a9f5-4538-b045-6fad88fc003f",
   "metadata": {},
   "source": [
    "# question 2\n",
    "The central tendency can be found using the formulas of mean, median or mode in most of the cases. As we know, mean is the average of a given data set, median is the middlemost data value and the mode represents the most frequently occurring data value in the set"
   ]
  },
  {
   "cell_type": "markdown",
   "id": "124db8df-8c8d-4a6f-9699-d091c16b3a08",
   "metadata": {},
   "source": [
    "# question 3"
   ]
  },
  {
   "cell_type": "code",
   "execution_count": 2,
   "id": "2ff5e835-eaec-4036-8938-225f14671545",
   "metadata": {},
   "outputs": [
    {
     "data": {
      "text/plain": [
       "177.01875"
      ]
     },
     "execution_count": 2,
     "metadata": {},
     "output_type": "execute_result"
    }
   ],
   "source": [
    "import numpy as np\n",
    "heights = [178,177,176,177,178.2,178,175,179,180,175,178.9,176.2,177,172.5,178,176.5]\n",
    "np.mean(heights)"
   ]
  },
  {
   "cell_type": "code",
   "execution_count": 3,
   "id": "c39b2862-2ede-4a7c-87d9-ae783a70a540",
   "metadata": {},
   "outputs": [
    {
     "data": {
      "text/plain": [
       "177.0"
      ]
     },
     "execution_count": 3,
     "metadata": {},
     "output_type": "execute_result"
    }
   ],
   "source": [
    "np.median(heights)"
   ]
  },
  {
   "cell_type": "code",
   "execution_count": 6,
   "id": "89d41329-bae4-403a-8097-662e694a547c",
   "metadata": {},
   "outputs": [
    {
     "name": "stderr",
     "output_type": "stream",
     "text": [
      "/tmp/ipykernel_105/2713150148.py:2: FutureWarning: Unlike other reduction functions (e.g. `skew`, `kurtosis`), the default behavior of `mode` typically preserves the axis it acts along. In SciPy 1.11.0, this behavior will change: the default value of `keepdims` will become False, the `axis` over which the statistic is taken will be eliminated, and the value None will no longer be accepted. Set `keepdims` to True or False to avoid this warning.\n",
      "  stats.mode(heights)\n"
     ]
    },
    {
     "data": {
      "text/plain": [
       "ModeResult(mode=array([177.]), count=array([3]))"
      ]
     },
     "execution_count": 6,
     "metadata": {},
     "output_type": "execute_result"
    }
   ],
   "source": [
    "from scipy import stats\n",
    "stats.mode(heights)"
   ]
  },
  {
   "cell_type": "markdown",
   "id": "4ed9672f-3748-450b-a23a-3c391325bc2b",
   "metadata": {},
   "source": [
    "# question 4"
   ]
  },
  {
   "cell_type": "code",
   "execution_count": 7,
   "id": "2ba73fab-281f-42df-8de3-48759d2c2390",
   "metadata": {},
   "outputs": [
    {
     "data": {
      "text/plain": [
       "1.7885814036548633"
      ]
     },
     "execution_count": 7,
     "metadata": {},
     "output_type": "execute_result"
    }
   ],
   "source": [
    "data = [178,177,176,177,178.2,178,175,179,180,175,178.9,176.2,177,172.5,178,176.5]\n",
    "import numpy as np\n",
    "np.std(data)"
   ]
  },
  {
   "cell_type": "markdown",
   "id": "bc08dcc4-f290-4fac-9b95-c8b0e373e38b",
   "metadata": {},
   "source": [
    "# question 5\n",
    "\n",
    "The range is the easiest dispersion of data or measure of variability. The range can measure by subtracting the lowest value from the massive Number. The wide range indicates high variability, and the small range specifies low variability in the distribution.\n",
    "\n",
    "Variance is a simple measure of dispersion. Variance measures how far each number in the dataset from the mean. To compute variance first, calculate the mean and squared deviations from a mean.\n",
    "\n",
    "Standard deviation is a squared root of the variance to get original values. Low standard deviation indicates data points close to mean."
   ]
  },
  {
   "cell_type": "markdown",
   "id": "8439ebe7-513b-4938-b7cc-8635e99938ab",
   "metadata": {},
   "source": [
    "# question 6\n",
    "a diagram representing mathematical or logical sets pictorially as circles or closed curves within an enclosing rectangle (the universal set), common elements of the sets being represented by intersections of the circles is called as Venn Diagram."
   ]
  },
  {
   "cell_type": "markdown",
   "id": "94545ba4-d5fe-44ce-95f6-f0be0ef37b54",
   "metadata": {},
   "source": [
    "# question 7\n",
    "i -- (2,6)\n",
    "\n",
    "ii -- (0,2,3,4,5,6,7,8,10)"
   ]
  },
  {
   "cell_type": "markdown",
   "id": "10fc92d5-5d26-49e8-aab8-8fbd45f48159",
   "metadata": {},
   "source": [
    "# question 8 \n",
    "Skewness is a measurement of the distortion of symmetrical distribution or asymmetry in a data set. Skewness is demonstrated on a bell curve when data points are not distributed symmetrically to the left and right sides of the median on a bell curve.\n"
   ]
  },
  {
   "cell_type": "markdown",
   "id": "bebd85e2-9f0e-4199-8240-ff39215007ff",
   "metadata": {},
   "source": [
    "# question 9\n",
    "If a data is right skewed then mean will be greater than median."
   ]
  },
  {
   "cell_type": "markdown",
   "id": "d0ff4335-d417-4f95-b380-8516598881e3",
   "metadata": {},
   "source": [
    "# question 10\n",
    "Covariance is an indicator of the extent to which 2 random variables are dependent on each other. A higher number denotes higher dependency. Correlation is a statistical measure that indicates how strongly two variables are related. \n",
    "\n",
    "Covariance and correlation are two terms that are opposed and are both used in statistics and regression analysis. Covariance shows you how the two variables differ, whereas correlation shows you how the two variables are related."
   ]
  },
  {
   "cell_type": "markdown",
   "id": "4c495285-b5f5-4451-abfe-afd25b29681c",
   "metadata": {},
   "source": [
    "# question 11\n",
    "The sample mean formula is written as\n",
    "\n",
    "Sample Mean = (Sum of terms) ÷ (Number of Terms) = ∑xi/n\n",
    "\n",
    "Where,\n",
    "\n",
    "∑xi = sum of terms\n",
    "n = number of terms\n",
    "\n",
    "Example 1: Find the sample mean of 60, 57, 109, 50.\n",
    "\n",
    "Solution: \n",
    "\n",
    "To find: Sample mean\n",
    "Sum of terms = 60 + 57 + 109 + 50 = 276\n",
    "Number of terms = 4\n",
    "Using sample mean formula,\n",
    "mean = (sum of terms)/(number of terms)\n",
    "mean = 276/4 = 69\n",
    "\n",
    "Answer: The sample mean of 60, 57, 109, 50 is  69.\n",
    "\n"
   ]
  },
  {
   "cell_type": "markdown",
   "id": "d532939c-da21-4fa0-b7be-24eee04fb45e",
   "metadata": {},
   "source": [
    "# question 12\n",
    "Any normal distribution has a graph that is perfectly symmetric about a vertical line through its peak. Therefore, all measures of central tendency (most commonly, the mean, median, and mode) give the same answer: the x -value of the peak"
   ]
  },
  {
   "cell_type": "markdown",
   "id": "1a31468f-08df-49a5-9e69-7d7c7f8e4472",
   "metadata": {},
   "source": [
    "# question 13\n",
    "\n",
    "The key differences between covariance and correlation can be summarized as follows:\n",
    "\n",
    "What do they measure? Covariance measures whether a variation in one variable results in a variation in another variable; for example, looking at whether an increase in one variable results in an increase, decrease, or no change in the other variable. Correlation measures the direction as well as the strength of the relationship between two variables (i.e. how strongly these two variables are related to each other).\n",
    "\n",
    "Relationship constraints: Covariance deals with the linear relationship of only two variables in the dataset, whereas correlation can involve two or multiple variables or data sets and their linear relationships.\n",
    "\n",
    "Value range: Although both correlation coefficient and covariance are measures of linear association, correlation coefficients are standardized, therefore displaying an absolute value within a definite range from -1 to 1. On the other hand, covariance values are not standardized and use an indefinite range from -∞ to +∞ , which makes the interpretation of covariance a bit tricky.\n",
    "\n",
    "Measurement units: Correlation is dimensionless, i.e. it is a unit-free measure of the relationship between variables. In contrast,  covariance is in units, which is formed by multiplying the unit of one variable by the unit of another variable.\n",
    "\n",
    "Change in scale: Covariance is affected by the change in scale, i.e. if all the values of one variable are multiplied by a constant and all the values of another variable are multiplied by a similar or different constant, then the covariance is changed. Conversely, correlation is not affected by the change in scale.\n"
   ]
  },
  {
   "cell_type": "markdown",
   "id": "728258a8-8864-4b1a-b5ec-3185581c6931",
   "metadata": {},
   "source": [
    "# question 14\n",
    "Outliers are numbers in a data set that are vastly larger or smaller than the other values in the set. Mean, median and mode are measures of central tendency. Mean is the only measure of central tendency that is always affected by an outlier.\n",
    "\n",
    "When a outlier is present it can effect the shape of the graph, if we have outliers to the right of the graph. These outliers are causing the mean to increase, but if we have outliers to the left of the graph these outliers are dragging down the mean. This causes a conflict because the mean no longer provides a good representation of the data, alternatively we would much rather use the median. The median on the other hand is less likely to be affect by outliers.\n",
    "Same is the case with mode as central tendency as median.\n",
    "\n"
   ]
  },
  {
   "cell_type": "code",
   "execution_count": null,
   "id": "21188b32-dc87-4244-91a4-d7eea403240d",
   "metadata": {},
   "outputs": [],
   "source": []
  }
 ],
 "metadata": {
  "kernelspec": {
   "display_name": "Python 3 (ipykernel)",
   "language": "python",
   "name": "python3"
  },
  "language_info": {
   "codemirror_mode": {
    "name": "ipython",
    "version": 3
   },
   "file_extension": ".py",
   "mimetype": "text/x-python",
   "name": "python",
   "nbconvert_exporter": "python",
   "pygments_lexer": "ipython3",
   "version": "3.10.8"
  }
 },
 "nbformat": 4,
 "nbformat_minor": 5
}
